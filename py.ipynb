{
 "cells": [
  {
   "cell_type": "code",
   "execution_count": 40,
   "metadata": {},
   "outputs": [
    {
     "data": {
      "text/plain": [
       "'\\nGDACS ID WF 1020968\\nCountries Australia\\nEvent summary This forest fire is expected to have a low humanitarian impact based on the magnitude and the affected population and their vulnerability.\\nGDACS ID\\tWF 1020968\\nCountries:\\tAustralia\\nStart Date - Last detection*:\\t09 Aug 2024 - 14 Aug 2024\\nDuration (days):\\t5\\nPeople affected:\\t0 in the burned area\\nBurned area:\\t10556 ha\\n'"
      ]
     },
     "execution_count": 40,
     "metadata": {},
     "output_type": "execute_result"
    }
   ],
   "source": [
    "'''\n",
    "GDACS ID WF 1020968\n",
    "Countries Australia\n",
    "Event summary This forest fire is expected to have a low humanitarian impact based on the magnitude and the affected population and their vulnerability.\n",
    "GDACS ID\tWF 1020968\n",
    "Countries:\tAustralia\n",
    "Start Date - Last detection*:\t09 Aug 2024 - 14 Aug 2024\n",
    "Duration (days):\t5\n",
    "People affected:\t0 in the burned area\n",
    "Burned area:\t10556 ha\n",
    "'''"
   ]
  },
  {
   "cell_type": "code",
   "execution_count": 41,
   "metadata": {},
   "outputs": [],
   "source": [
    "from selenium import webdriver\n",
    "from selenium.webdriver.common.by import By\n",
    "from selenium.webdriver.chrome.service import Service\n",
    "from selenium.webdriver.chrome.options import Options\n",
    "from selenium.webdriver.support.ui import WebDriverWait\n",
    "from selenium.webdriver.support import expected_conditions as EC\n",
    "import time"
   ]
  },
  {
   "cell_type": "code",
   "execution_count": 42,
   "metadata": {},
   "outputs": [
    {
     "name": "stdout",
     "output_type": "stream",
     "text": [
      "Event Summary:\n",
      "This forest fire is expected to have a high humanitarian impact based on the magnitude and the affected population and their vulnerability.\n",
      "['1', '', '1.5', '1771', '5386', '12 Aug 2024 10:00', 'GWIS']\n",
      "['2', '', '1.5', '2861', '7169', '12 Aug 2024 14:00', 'GWIS']\n",
      "['3', '', '1.5', '3388', '7938', '12 Aug 2024 22:00', 'GWIS']\n",
      "['4', '', '1.5', '3388', '7977', '13 Aug 2024 02:00', 'GWIS']\n",
      "['5', '', '2.5', '3774', '8206', '19 Aug 2024 10:00', 'GWIS']\n"
     ]
    }
   ],
   "source": [
    "\n",
    "# Set up Chrome options\n",
    "chrome_options = Options()\n",
    "# chrome_options.add_argument(\"--headless\")  # Run in headless mode\n",
    "chrome_options.add_argument(\"--no-sandbox\")\n",
    "\n",
    "# Initialize the WebDriver\n",
    "driver = webdriver.Chrome(options=chrome_options)\n",
    "url = \"https://www.gdacs.org/Wildfires/report.aspx?eventtype=WF&eventid=1021078&episodeid=5\"\n",
    "# \"https://www.gdacs.org/Wildfires/report.aspx?eventtype=WF&eventid=1019635&episodeid=2\"\n",
    "# Open the URL\n",
    "driver.get('file:///D:/Web%20Scraping/Web-Scraping/htmls/Wildfires/1.html')\n",
    "\n",
    "# Fetch the event summary section\n",
    "event_summary_element = driver.find_element(By.XPATH, '//*[@class=\"p_summary\"][1]')\n",
    "event_summary_text = event_summary_element.text\n",
    "\n",
    "# Print the event summary text\n",
    "print(\"Event Summary:\")\n",
    "print(event_summary_text)\n",
    "\n",
    "# Locate the Impact Timeline\n",
    "table_xpath = '//*[@id=\"ctl00_CPH_GridViewEpisodes\"]/tbody'  # Adjust XPath as needed\n",
    "table = driver.find_element(By.XPATH, table_xpath)\n",
    "# Fetch table rows using XPath\n",
    "rows_xpath = './/tr'  # XPath to locate rows within the table\n",
    "rows = table.find_elements(By.XPATH, rows_xpath)\n",
    "# Extract data from each row and column\n",
    "table_data = []\n",
    "for row in rows:\n",
    "    columns_xpath = './/td'  # XPath to locate columns within each row\n",
    "    columns = row.find_elements(By.XPATH, columns_xpath)\n",
    "    row_data = [column.text for column in columns]\n",
    "    if len(row_data) <1:\n",
    "        continue\n",
    "    else:\n",
    "        table_data.append(row_data)\n",
    "\n",
    "# Print table data\n",
    "for row in table_data:\n",
    "    print(row)\n"
   ]
  },
  {
   "cell_type": "code",
   "execution_count": 43,
   "metadata": {},
   "outputs": [
    {
     "name": "stdout",
     "output_type": "stream",
     "text": [
      "['Radius', 'Population']\n",
      "['10 km', '380000 people']\n",
      "['5 km', '93000 people']\n",
      "['2 km', '35000 people']\n",
      "['1 km', '18000 people']\n",
      "['Burned Area', '3800 people']\n"
     ]
    }
   ],
   "source": [
    "# Locate the Impact Timeline\n",
    "table_xpath = '//*[@id=\"graph_eq\"]/table/tbody/tr/td/table/tbody'  # Adjust XPath as needed\n",
    "table = driver.find_element(By.XPATH, table_xpath)\n",
    "# Fetch table rows using XPath\n",
    "rows_xpath = './/tr'  # XPath to locate rows within the table\n",
    "rows = table.find_elements(By.XPATH, rows_xpath)\n",
    "# Extract data from each row and column\n",
    "table_data = []\n",
    "for row in rows:\n",
    "    columns_xpath = './/th | .//td'  # XPath to locate columns within each row\n",
    "    columns = row.find_elements(By.XPATH, columns_xpath)\n",
    "    row_data = [column.text for column in columns]\n",
    "    if len(row_data) <1:\n",
    "        continue\n",
    "    else:\n",
    "        table_data.append(row_data)\n",
    "\n",
    "# Print table data\n",
    "for row in table_data:\n",
    "    print(row)\n"
   ]
  },
  {
   "cell_type": "code",
   "execution_count": 44,
   "metadata": {},
   "outputs": [
    {
     "name": "stdout",
     "output_type": "stream",
     "text": [
      "['Central Greece and Evvoia', 'Greece', '-']\n"
     ]
    }
   ],
   "source": [
    "# Locate the Affected Provinces\n",
    "table_xpath = '//*[@id=\"provinces\"]/table/tbody'  # Adjust XPath as needed\n",
    "table = driver.find_element(By.XPATH, table_xpath)\n",
    "# Fetch table rows using XPath\n",
    "rows_xpath = './/tr'  # XPath to locate rows within the table\n",
    "rows = table.find_elements(By.XPATH, rows_xpath)\n",
    "# Extract data from each row and column\n",
    "table_data = []\n",
    "for row in rows:\n",
    "    columns_xpath = './/td'  # XPath to locate columns within each row\n",
    "    columns = row.find_elements(By.XPATH, columns_xpath)\n",
    "    row_data = [column.text for column in columns]\n",
    "    if len(row_data) <1:\n",
    "        continue\n",
    "    else:\n",
    "        table_data.append(row_data)\n",
    "\n",
    "# Print table data\n",
    "for row in table_data:\n",
    "    print(row)\n"
   ]
  },
  {
   "cell_type": "code",
   "execution_count": 45,
   "metadata": {},
   "outputs": [],
   "source": [
    "# wait = WebDriverWait(driver, 10)\n",
    "# btn = wait.until(EC.element_to_be_clickable((By.XPATH,'//*[@id=\"cookie-consent-banner\"]/div/div/div[2]/a[1]')))\n",
    "# btn.click()\n",
    "# scroll_script = \"window.scrollTo(0, document.body.scrollHeight * 0.7);\"\n",
    "# driver.execute_script(scroll_script) \n",
    "# time.sleep(10)\n",
    "# btn = wait.until(EC.element_to_be_clickable((By.XPATH,'//*[@id=\"airports\"]/div/div[1]')))\n",
    "# btn.click()\n",
    "# btn.click()"
   ]
  },
  {
   "cell_type": "code",
   "execution_count": 46,
   "metadata": {},
   "outputs": [
    {
     "name": "stdout",
     "output_type": "stream",
     "text": [
      "37\n",
      "[]\n",
      "['Marathón', 'Attiki', 'Greece', 'City', '-', '3 km']\n",
      "['Amarousi', 'Attiki', 'Greece', 'City', '-', '15 km']\n",
      "['Chalandri', 'Attiki', 'Greece', 'City', '-', '18 km']\n",
      "['Filí', 'Attiki', 'Greece', 'City', '-', '23 km']\n",
      "['Avlón', 'Attiki', 'Greece', 'City', '-', '23 km']\n",
      "['Athínai', '', 'Greece', 'Capital', '760000 people', '27 km']\n",
      "['Koropi', 'Attiki', 'Greece', 'City', '-', '28 km']\n",
      "['Dafni', 'Attiki', 'Greece', 'City', '-', '29 km']\n",
      "['Markópoulon', 'Attiki', 'Greece', 'City', '-', '30 km']\n",
      "['Kallithea', 'Attiki', 'Greece', 'Major city', '110000 people', '31 km']\n",
      "['Alivérion', 'Evvoia', 'Greece', 'City', '-', '31 km']\n",
      "['Kalamaki', 'Attiki', 'Greece', 'City', '-', '32 km']\n",
      "['Pireas', '', 'Greece', 'City', '-', '34 km']\n",
      "['Kalívia Thorikoú', 'Attiki', 'Greece', 'City', '-', '35 km']\n",
      "['Glifádha', '', 'Greece', 'City', '-', '35 km']\n",
      "['Amarinthos', 'Evvoia', 'Greece', 'City', '-', '38 km']\n",
      "['Mandra', 'Attiki', 'Greece', 'City', '-', '39 km']\n",
      "['Keratéa', 'Attiki', 'Greece', 'City', '16000 people', '39 km']\n",
      "['Vasilikón', 'Evvoia', 'Greece', 'City', '-', '40 km']\n",
      "['Khalkís', '', 'Greece', 'City', '-', '45 km']\n",
      "['Néa Artáki', 'Evvoia', 'Greece', 'City', '-', '48 km']\n",
      "['Káto Aëtós', 'Evvoia', 'Greece', 'City', '-', '50 km']\n",
      "['Khalía', 'Evvoia', 'Greece', 'City', '-', '50 km']\n",
      "['Erithraí', 'Attiki', 'Greece', 'City', '-', '53 km']\n",
      "['Psakhná', 'Evvoia', 'Greece', 'City', '-', '54 km']\n",
      "['Mégara', 'Attiki', 'Greece', 'City', '28000 people', '54 km']\n",
      "['Kími', 'Evvoia', 'Greece', 'City', '-', '56 km']\n",
      "['Váyia', 'Voiotia', 'Greece', 'City', '-', '69 km']\n",
      "['Aliartos', 'Voiotia', 'Greece', 'City', '-', '76 km']\n",
      "['Martínon', 'Fthiotida', 'Greece', 'City', '-', '77 km']\n",
      "['Malesína', 'Fthiotida', 'Greece', 'City', '-', '80 km']\n",
      "['Mandoúdhion', 'Evvoia', 'Greece', 'City', '-', '82 km']\n",
      "['Galatás', '', 'Greece', 'City', '-', '83 km']\n",
      "['Ayia Anna', 'Evvoia', 'Greece', 'City', '-', '91 km']\n",
      "['Idhra', 'Attiki', 'Greece', 'City', '-', '98 km']\n",
      "['Skopelos', 'Magnisia', 'Greece', 'City', '-', '110 km']\n"
     ]
    }
   ],
   "source": [
    "# Locate the Affected populated places\n",
    "time.sleep(10)\n",
    "table_xpath = '//*[@id=\"cities\"]/table/tbody'  # Adjust XPath as needed\n",
    "table = driver.find_element(By.XPATH, table_xpath)\n",
    "# Fetch table rows using XPath\n",
    "rows_xpath = './/tr'  # XPath to locate rows within the table\n",
    "rows = table.find_elements(By.XPATH, rows_xpath)\n",
    "print(len(rows))\n",
    "# Extract data from each row and column\n",
    "table_data = []\n",
    "for row in rows:\n",
    "    columns_xpath = './/td'  # XPath to locate columns within each row\n",
    "    columns = row.find_elements(By.XPATH, columns_xpath)\n",
    "    row_data = [column.text.strip() for column in columns]\n",
    "    # row_data = [column.text for column in columns]\n",
    "    table_data.append(row_data)\n",
    "\n",
    "# Print table data\n",
    "for row in table_data:\n",
    "    print(row)\n",
    "time.sleep(10)\n"
   ]
  },
  {
   "cell_type": "code",
   "execution_count": 47,
   "metadata": {},
   "outputs": [],
   "source": [
    "# # Locate the Affected populated places\n",
    "# table_xpath = '//*[@id=\"airports\"]/table/tbody'  # Adjust XPath as needed\n",
    "# table = driver.find_element(By.XPATH, table_xpath)\n",
    "# # Fetch table rows using JavaScript to include hidden rows\n",
    "# rows = driver.execute_script('return arguments[0].querySelectorAll(\"tr\")', table)\n",
    "\n",
    "# print(len(rows))\n",
    "\n",
    "# # Extract data from each row and column\n",
    "# table_data = []\n",
    "# for row in rows:\n",
    "#     # Use JavaScript to extract text from each cell, including hidden cells\n",
    "#     columns = driver.execute_script('return arguments[0].querySelectorAll(\"td\")', row)\n",
    "#     row_data = [column.text.strip() for column in columns]\n",
    "#     table_data.append(row_data)\n",
    "\n",
    "# # Print table data\n",
    "# for row in table_data:\n",
    "#     print(row)"
   ]
  },
  {
   "cell_type": "code",
   "execution_count": 48,
   "metadata": {},
   "outputs": [],
   "source": [
    "\n",
    "# lst = []\n",
    "# lst2= []\n",
    "# for i in range(2,len(rows)+1):\n",
    "#     lst2.clear()\n",
    "#     for j in range(1,7):\n",
    "#         xpath = f'//*[@id=\"cities\"]/table/tbody/tr[{i}]/td[{j}]'\n",
    "#         table=driver.find_elements(By.XPATH, xpath)\n",
    "#         for elem in table:\n",
    "#             print(elem.text)\n",
    "#         # f'tr[{i}]//td[{j}]'\n",
    "#     # lst.append[lst2]\n",
    "        \n"
   ]
  },
  {
   "cell_type": "code",
   "execution_count": null,
   "metadata": {},
   "outputs": [],
   "source": []
  },
  {
   "cell_type": "code",
   "execution_count": 49,
   "metadata": {},
   "outputs": [],
   "source": [
    "\n",
    "# main_table_elem = driver.find_element(By.XPATH, '//*[@class = \"summary\"]')\n",
    "# # Locate the table element using XPath\n",
    "# table_xpath = '//table'  # Adjust XPath as needed\n",
    "# table = driver.find_element(By.XPATH, table_xpath)\n",
    "\n",
    "# # Fetch table rows using XPath\n",
    "# rows_xpath = './/tr'  # XPath to locate rows within the table\n",
    "# rows = main_table_elem.find_elements(By.XPATH, rows_xpath)\n",
    "\n",
    "# # Extract data from each row and column\n",
    "# table_data = {}\n",
    "# for row in rows:\n",
    "#     columns_xpath = './/td'  # XPath to locate columns within each row\n",
    "#     columns = row.find_elements(By.XPATH, columns_xpath)\n",
    "#     row_data = [column.text for column in columns]\n",
    "#     table_data.append(row_data)\n",
    "\n",
    "# # Print table data\n",
    "# for row in table_data:\n",
    "#     print(row)\n"
   ]
  },
  {
   "cell_type": "code",
   "execution_count": 50,
   "metadata": {},
   "outputs": [],
   "source": [
    "\n",
    "# Close the WebDriver\n",
    "driver.quit()\n"
   ]
  }
 ],
 "metadata": {
  "kernelspec": {
   "display_name": "Python 3",
   "language": "python",
   "name": "python3"
  },
  "language_info": {
   "codemirror_mode": {
    "name": "ipython",
    "version": 3
   },
   "file_extension": ".py",
   "mimetype": "text/x-python",
   "name": "python",
   "nbconvert_exporter": "python",
   "pygments_lexer": "ipython3",
   "version": "3.10.9"
  }
 },
 "nbformat": 4,
 "nbformat_minor": 2
}
