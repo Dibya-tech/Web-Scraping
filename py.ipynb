{
 "cells": [
  {
   "cell_type": "code",
   "execution_count": 63,
   "metadata": {},
   "outputs": [
    {
     "data": {
      "text/plain": [
       "'\\nGDACS ID WF 1020968\\nCountries Australia\\nEvent summary This forest fire is expected to have a low humanitarian impact based on the magnitude and the affected population and their vulnerability.\\nGDACS ID\\tWF 1020968\\nCountries:\\tAustralia\\nStart Date - Last detection*:\\t09 Aug 2024 - 14 Aug 2024\\nDuration (days):\\t5\\nPeople affected:\\t0 in the burned area\\nBurned area:\\t10556 ha\\n'"
      ]
     },
     "execution_count": 63,
     "metadata": {},
     "output_type": "execute_result"
    }
   ],
   "source": [
    "'''\n",
    "GDACS ID WF 1020968\n",
    "Countries Australia\n",
    "Event summary This forest fire is expected to have a low humanitarian impact based on the magnitude and the affected population and their vulnerability.\n",
    "GDACS ID\tWF 1020968\n",
    "Countries:\tAustralia\n",
    "Start Date - Last detection*:\t09 Aug 2024 - 14 Aug 2024\n",
    "Duration (days):\t5\n",
    "People affected:\t0 in the burned area\n",
    "Burned area:\t10556 ha\n",
    "'''"
   ]
  },
  {
   "cell_type": "code",
   "execution_count": 64,
   "metadata": {},
   "outputs": [],
   "source": [
    "from selenium import webdriver\n",
    "from selenium.webdriver.common.by import By\n",
    "from selenium.webdriver.chrome.service import Service\n",
    "from selenium.webdriver.chrome.options import Options\n"
   ]
  },
  {
   "cell_type": "code",
   "execution_count": 65,
   "metadata": {},
   "outputs": [
    {
     "name": "stdout",
     "output_type": "stream",
     "text": [
      "Event Summary:\n",
      "This forest fire is expected to have a high humanitarian impact based on the magnitude and the affected population and their vulnerability.\n",
      "[]\n",
      "['1', '', '1.5', '0', '2807', '30 Apr 2024 13:25', 'GWIS']\n",
      "['2', '', '2.5', '0', '2807', '30 Apr 2024 13:25', 'GWIS']\n"
     ]
    }
   ],
   "source": [
    "\n",
    "# Set up Chrome options\n",
    "chrome_options = Options()\n",
    "chrome_options.add_argument(\"--headless\")  # Run in headless mode\n",
    "chrome_options.add_argument(\"--no-sandbox\")\n",
    "\n",
    "# Initialize the WebDriver\n",
    "driver = webdriver.Chrome(options=chrome_options)\n",
    "\n",
    "# Open the URL\n",
    "driver.get(\"https://www.gdacs.org/Wildfires/report.aspx?eventtype=WF&eventid=1019635&episodeid=2\")\n",
    "\n",
    "# Fetch the event summary section\n",
    "event_summary_element = driver.find_element(By.XPATH, '//*[@class=\"p_summary\"][1]')\n",
    "event_summary_text = event_summary_element.text\n",
    "\n",
    "# Print the event summary text\n",
    "print(\"Event Summary:\")\n",
    "print(event_summary_text)\n",
    "\n",
    "# Locate the Impact Timeline\n",
    "table_xpath = '//*[@id=\"ctl00_CPH_GridViewEpisodes\"]/tbody'  # Adjust XPath as needed\n",
    "table = driver.find_element(By.XPATH, table_xpath)\n",
    "# Fetch table rows using XPath\n",
    "rows_xpath = './/tr'  # XPath to locate rows within the table\n",
    "rows = table.find_elements(By.XPATH, rows_xpath)\n",
    "# Extract data from each row and column\n",
    "table_data = []\n",
    "for row in rows:\n",
    "    columns_xpath = './/td'  # XPath to locate columns within each row\n",
    "    columns = row.find_elements(By.XPATH, columns_xpath)\n",
    "    row_data = [column.text for column in columns]\n",
    "    table_data.append(row_data)\n",
    "\n",
    "# Print table data\n",
    "for row in table_data:\n",
    "    print(row)\n"
   ]
  },
  {
   "cell_type": "code",
   "execution_count": 66,
   "metadata": {},
   "outputs": [
    {
     "name": "stdout",
     "output_type": "stream",
     "text": [
      "['Radius', 'Population']\n",
      "['10 km', '1300 people']\n",
      "['5 km', '<1000 people']\n",
      "['2 km', '<1000 people']\n",
      "['1 km', '<1000 people']\n",
      "['Burned Area', 'no people']\n"
     ]
    }
   ],
   "source": [
    "# Locate the Impact Timeline\n",
    "table_xpath = '//*[@id=\"graph_eq\"]/table/tbody/tr/td/table/tbody'  # Adjust XPath as needed\n",
    "table = driver.find_element(By.XPATH, table_xpath)\n",
    "# Fetch table rows using XPath\n",
    "rows_xpath = './/tr'  # XPath to locate rows within the table\n",
    "rows = table.find_elements(By.XPATH, rows_xpath)\n",
    "# Extract data from each row and column\n",
    "table_data = []\n",
    "for row in rows:\n",
    "    columns_xpath = './/th | .//td'  # XPath to locate columns within each row\n",
    "    columns = row.find_elements(By.XPATH, columns_xpath)\n",
    "    row_data = [column.text for column in columns]\n",
    "    table_data.append(row_data)\n",
    "\n",
    "# Print table data\n",
    "for row in table_data:\n",
    "    print(row)\n"
   ]
  },
  {
   "cell_type": "code",
   "execution_count": 67,
   "metadata": {},
   "outputs": [],
   "source": [
    "\n",
    "# main_table_elem = driver.find_element(By.XPATH, '//*[@class = \"summary\"]')\n",
    "# # Locate the table element using XPath\n",
    "# table_xpath = '//table'  # Adjust XPath as needed\n",
    "# table = driver.find_element(By.XPATH, table_xpath)\n",
    "\n",
    "# # Fetch table rows using XPath\n",
    "# rows_xpath = './/tr'  # XPath to locate rows within the table\n",
    "# rows = main_table_elem.find_elements(By.XPATH, rows_xpath)\n",
    "\n",
    "# # Extract data from each row and column\n",
    "# table_data = {}\n",
    "# for row in rows:\n",
    "#     columns_xpath = './/td'  # XPath to locate columns within each row\n",
    "#     columns = row.find_elements(By.XPATH, columns_xpath)\n",
    "#     row_data = [column.text for column in columns]\n",
    "#     table_data.append(row_data)\n",
    "\n",
    "# # Print table data\n",
    "# for row in table_data:\n",
    "#     print(row)\n"
   ]
  },
  {
   "cell_type": "code",
   "execution_count": 68,
   "metadata": {},
   "outputs": [],
   "source": [
    "\n",
    "# Close the WebDriver\n",
    "driver.quit()\n"
   ]
  }
 ],
 "metadata": {
  "kernelspec": {
   "display_name": "Python 3",
   "language": "python",
   "name": "python3"
  },
  "language_info": {
   "codemirror_mode": {
    "name": "ipython",
    "version": 3
   },
   "file_extension": ".py",
   "mimetype": "text/x-python",
   "name": "python",
   "nbconvert_exporter": "python",
   "pygments_lexer": "ipython3",
   "version": "3.12.5"
  }
 },
 "nbformat": 4,
 "nbformat_minor": 2
}
