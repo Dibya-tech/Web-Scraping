{
 "cells": [
  {
   "cell_type": "code",
   "execution_count": 60,
   "metadata": {},
   "outputs": [
    {
     "data": {
      "text/plain": [
       "'\\nGDACS ID WF 1020968\\nCountries Australia\\nEvent summary This forest fire is expected to have a low humanitarian impact based on the magnitude and the affected population and their vulnerability.\\nGDACS ID\\tWF 1020968\\nCountries:\\tAustralia\\nStart Date - Last detection*:\\t09 Aug 2024 - 14 Aug 2024\\nDuration (days):\\t5\\nPeople affected:\\t0 in the burned area\\nBurned area:\\t10556 ha\\n'"
      ]
     },
     "execution_count": 60,
     "metadata": {},
     "output_type": "execute_result"
    }
   ],
   "source": [
    "'''\n",
    "GDACS ID WF 1020968\n",
    "Countries Australia\n",
    "Event summary This forest fire is expected to have a low humanitarian impact based on the magnitude and the affected population and their vulnerability.\n",
    "GDACS ID\tWF 1020968\n",
    "Countries:\tAustralia\n",
    "Start Date - Last detection*:\t09 Aug 2024 - 14 Aug 2024\n",
    "Duration (days):\t5\n",
    "People affected:\t0 in the burned area\n",
    "Burned area:\t10556 ha\n",
    "'''"
   ]
  },
  {
   "cell_type": "code",
   "execution_count": 61,
   "metadata": {},
   "outputs": [],
   "source": [
    "from selenium import webdriver\n",
    "from selenium.webdriver.common.by import By\n",
    "from selenium.webdriver.chrome.service import Service\n",
    "from selenium.webdriver.chrome.options import Options\n"
   ]
  },
  {
   "cell_type": "code",
   "execution_count": 62,
   "metadata": {},
   "outputs": [
    {
     "name": "stdout",
     "output_type": "stream",
     "text": [
      "Event Summary:\n",
      "This forest fire is expected to have a high humanitarian impact based on the magnitude and the affected population and their vulnerability.\n"
     ]
    },
    {
     "ename": "NoSuchElementException",
     "evalue": "Message: no such element: Unable to locate element: {\"method\":\"xpath\",\"selector\":\"//*[@id=\"ctl005_CPH_GridViewEpisodes\"]/tbody\"}\n  (Session info: chrome-headless-shell=127.0.6533.119); For documentation on this error, please visit: https://www.selenium.dev/documentation/webdriver/troubleshooting/errors#no-such-element-exception\nStacktrace:\n\tGetHandleVerifier [0x00007FF796969642+30946]\n\t(No symbol) [0x00007FF79691E3D9]\n\t(No symbol) [0x00007FF796816FDA]\n\t(No symbol) [0x00007FF79686822C]\n\t(No symbol) [0x00007FF79686850C]\n\t(No symbol) [0x00007FF7968ADCB7]\n\t(No symbol) [0x00007FF79688CAAF]\n\t(No symbol) [0x00007FF7968AB041]\n\t(No symbol) [0x00007FF79688C813]\n\t(No symbol) [0x00007FF79685A6E5]\n\t(No symbol) [0x00007FF79685B021]\n\tGetHandleVerifier [0x00007FF796A9F84D+1301229]\n\tGetHandleVerifier [0x00007FF796AABDC7+1351783]\n\tGetHandleVerifier [0x00007FF796AA2A13+1313971]\n\tGetHandleVerifier [0x00007FF79699DD16+245686]\n\t(No symbol) [0x00007FF79692759F]\n\t(No symbol) [0x00007FF796923814]\n\t(No symbol) [0x00007FF7969239A2]\n\t(No symbol) [0x00007FF79691A3FF]\n\tBaseThreadInitThunk [0x00007FFEF2F7257D+29]\n\tRtlUserThreadStart [0x00007FFEF35AAF28+40]\n",
     "output_type": "error",
     "traceback": [
      "\u001b[1;31m---------------------------------------------------------------------------\u001b[0m",
      "\u001b[1;31mNoSuchElementException\u001b[0m                    Traceback (most recent call last)",
      "Cell \u001b[1;32mIn[62], line 22\u001b[0m\n\u001b[0;32m     20\u001b[0m \u001b[38;5;66;03m# Locate the Impact Timeline\u001b[39;00m\n\u001b[0;32m     21\u001b[0m table_xpath \u001b[38;5;241m=\u001b[39m \u001b[38;5;124m'\u001b[39m\u001b[38;5;124m//*[@id=\u001b[39m\u001b[38;5;124m\"\u001b[39m\u001b[38;5;124mctl005_CPH_GridViewEpisodes\u001b[39m\u001b[38;5;124m\"\u001b[39m\u001b[38;5;124m]/tbody\u001b[39m\u001b[38;5;124m'\u001b[39m  \u001b[38;5;66;03m# Adjust XPath as needed\u001b[39;00m\n\u001b[1;32m---> 22\u001b[0m table \u001b[38;5;241m=\u001b[39m \u001b[43mdriver\u001b[49m\u001b[38;5;241;43m.\u001b[39;49m\u001b[43mfind_element\u001b[49m\u001b[43m(\u001b[49m\u001b[43mBy\u001b[49m\u001b[38;5;241;43m.\u001b[39;49m\u001b[43mXPATH\u001b[49m\u001b[43m,\u001b[49m\u001b[43m \u001b[49m\u001b[43mtable_xpath\u001b[49m\u001b[43m)\u001b[49m\n\u001b[0;32m     23\u001b[0m \u001b[38;5;66;03m# Fetch table rows using XPath\u001b[39;00m\n\u001b[0;32m     24\u001b[0m rows_xpath \u001b[38;5;241m=\u001b[39m \u001b[38;5;124m'\u001b[39m\u001b[38;5;124m.//tr\u001b[39m\u001b[38;5;124m'\u001b[39m  \u001b[38;5;66;03m# XPath to locate rows within the table\u001b[39;00m\n",
      "File \u001b[1;32m~\\AppData\\Roaming\\Python\\Python312\\site-packages\\selenium\\webdriver\\remote\\webdriver.py:748\u001b[0m, in \u001b[0;36mWebDriver.find_element\u001b[1;34m(self, by, value)\u001b[0m\n\u001b[0;32m    745\u001b[0m     by \u001b[38;5;241m=\u001b[39m By\u001b[38;5;241m.\u001b[39mCSS_SELECTOR\n\u001b[0;32m    746\u001b[0m     value \u001b[38;5;241m=\u001b[39m \u001b[38;5;124mf\u001b[39m\u001b[38;5;124m'\u001b[39m\u001b[38;5;124m[name=\u001b[39m\u001b[38;5;124m\"\u001b[39m\u001b[38;5;132;01m{\u001b[39;00mvalue\u001b[38;5;132;01m}\u001b[39;00m\u001b[38;5;124m\"\u001b[39m\u001b[38;5;124m]\u001b[39m\u001b[38;5;124m'\u001b[39m\n\u001b[1;32m--> 748\u001b[0m \u001b[38;5;28;01mreturn\u001b[39;00m \u001b[38;5;28;43mself\u001b[39;49m\u001b[38;5;241;43m.\u001b[39;49m\u001b[43mexecute\u001b[49m\u001b[43m(\u001b[49m\u001b[43mCommand\u001b[49m\u001b[38;5;241;43m.\u001b[39;49m\u001b[43mFIND_ELEMENT\u001b[49m\u001b[43m,\u001b[49m\u001b[43m \u001b[49m\u001b[43m{\u001b[49m\u001b[38;5;124;43m\"\u001b[39;49m\u001b[38;5;124;43musing\u001b[39;49m\u001b[38;5;124;43m\"\u001b[39;49m\u001b[43m:\u001b[49m\u001b[43m \u001b[49m\u001b[43mby\u001b[49m\u001b[43m,\u001b[49m\u001b[43m \u001b[49m\u001b[38;5;124;43m\"\u001b[39;49m\u001b[38;5;124;43mvalue\u001b[39;49m\u001b[38;5;124;43m\"\u001b[39;49m\u001b[43m:\u001b[49m\u001b[43m \u001b[49m\u001b[43mvalue\u001b[49m\u001b[43m}\u001b[49m\u001b[43m)\u001b[49m[\u001b[38;5;124m\"\u001b[39m\u001b[38;5;124mvalue\u001b[39m\u001b[38;5;124m\"\u001b[39m]\n",
      "File \u001b[1;32m~\\AppData\\Roaming\\Python\\Python312\\site-packages\\selenium\\webdriver\\remote\\webdriver.py:354\u001b[0m, in \u001b[0;36mWebDriver.execute\u001b[1;34m(self, driver_command, params)\u001b[0m\n\u001b[0;32m    352\u001b[0m response \u001b[38;5;241m=\u001b[39m \u001b[38;5;28mself\u001b[39m\u001b[38;5;241m.\u001b[39mcommand_executor\u001b[38;5;241m.\u001b[39mexecute(driver_command, params)\n\u001b[0;32m    353\u001b[0m \u001b[38;5;28;01mif\u001b[39;00m response:\n\u001b[1;32m--> 354\u001b[0m     \u001b[38;5;28;43mself\u001b[39;49m\u001b[38;5;241;43m.\u001b[39;49m\u001b[43merror_handler\u001b[49m\u001b[38;5;241;43m.\u001b[39;49m\u001b[43mcheck_response\u001b[49m\u001b[43m(\u001b[49m\u001b[43mresponse\u001b[49m\u001b[43m)\u001b[49m\n\u001b[0;32m    355\u001b[0m     response[\u001b[38;5;124m\"\u001b[39m\u001b[38;5;124mvalue\u001b[39m\u001b[38;5;124m\"\u001b[39m] \u001b[38;5;241m=\u001b[39m \u001b[38;5;28mself\u001b[39m\u001b[38;5;241m.\u001b[39m_unwrap_value(response\u001b[38;5;241m.\u001b[39mget(\u001b[38;5;124m\"\u001b[39m\u001b[38;5;124mvalue\u001b[39m\u001b[38;5;124m\"\u001b[39m, \u001b[38;5;28;01mNone\u001b[39;00m))\n\u001b[0;32m    356\u001b[0m     \u001b[38;5;28;01mreturn\u001b[39;00m response\n",
      "File \u001b[1;32m~\\AppData\\Roaming\\Python\\Python312\\site-packages\\selenium\\webdriver\\remote\\errorhandler.py:229\u001b[0m, in \u001b[0;36mErrorHandler.check_response\u001b[1;34m(self, response)\u001b[0m\n\u001b[0;32m    227\u001b[0m         alert_text \u001b[38;5;241m=\u001b[39m value[\u001b[38;5;124m\"\u001b[39m\u001b[38;5;124malert\u001b[39m\u001b[38;5;124m\"\u001b[39m]\u001b[38;5;241m.\u001b[39mget(\u001b[38;5;124m\"\u001b[39m\u001b[38;5;124mtext\u001b[39m\u001b[38;5;124m\"\u001b[39m)\n\u001b[0;32m    228\u001b[0m     \u001b[38;5;28;01mraise\u001b[39;00m exception_class(message, screen, stacktrace, alert_text)  \u001b[38;5;66;03m# type: ignore[call-arg]  # mypy is not smart enough here\u001b[39;00m\n\u001b[1;32m--> 229\u001b[0m \u001b[38;5;28;01mraise\u001b[39;00m exception_class(message, screen, stacktrace)\n",
      "\u001b[1;31mNoSuchElementException\u001b[0m: Message: no such element: Unable to locate element: {\"method\":\"xpath\",\"selector\":\"//*[@id=\"ctl005_CPH_GridViewEpisodes\"]/tbody\"}\n  (Session info: chrome-headless-shell=127.0.6533.119); For documentation on this error, please visit: https://www.selenium.dev/documentation/webdriver/troubleshooting/errors#no-such-element-exception\nStacktrace:\n\tGetHandleVerifier [0x00007FF796969642+30946]\n\t(No symbol) [0x00007FF79691E3D9]\n\t(No symbol) [0x00007FF796816FDA]\n\t(No symbol) [0x00007FF79686822C]\n\t(No symbol) [0x00007FF79686850C]\n\t(No symbol) [0x00007FF7968ADCB7]\n\t(No symbol) [0x00007FF79688CAAF]\n\t(No symbol) [0x00007FF7968AB041]\n\t(No symbol) [0x00007FF79688C813]\n\t(No symbol) [0x00007FF79685A6E5]\n\t(No symbol) [0x00007FF79685B021]\n\tGetHandleVerifier [0x00007FF796A9F84D+1301229]\n\tGetHandleVerifier [0x00007FF796AABDC7+1351783]\n\tGetHandleVerifier [0x00007FF796AA2A13+1313971]\n\tGetHandleVerifier [0x00007FF79699DD16+245686]\n\t(No symbol) [0x00007FF79692759F]\n\t(No symbol) [0x00007FF796923814]\n\t(No symbol) [0x00007FF7969239A2]\n\t(No symbol) [0x00007FF79691A3FF]\n\tBaseThreadInitThunk [0x00007FFEF2F7257D+29]\n\tRtlUserThreadStart [0x00007FFEF35AAF28+40]\n"
     ]
    }
   ],
   "source": [
    "\n",
    "# Set up Chrome options\n",
    "chrome_options = Options()\n",
    "chrome_options.add_argument(\"--headless\")  # Run in headless mode\n",
    "chrome_options.add_argument(\"--no-sandbox\")\n",
    "\n",
    "# Initialize the WebDriver\n",
    "driver = webdriver.Chrome(options=chrome_options)\n",
    "\n",
    "# Open the URL\n",
    "driver.get(\"https://www.gdacs.org/Wildfires/report.aspx?eventtype=WF&eventid=1019635&episodeid=2\")\n",
    "\n",
    "# Fetch the event summary section\n",
    "event_summary_element = driver.find_element(By.XPATH, '//*[@class=\"p_summary\"][1]')\n",
    "event_summary_text = event_summary_element.text\n",
    "\n",
    "# Print the event summary text\n",
    "print(\"Event Summary:\")\n",
    "print(event_summary_text)\n",
    "\n",
    "# Locate the Impact Timeline\n",
    "table_xpath = '//*[@id=\"ctl00_CPH_GridViewEpisodes\"]/tbody'  # Adjust XPath as needed\n",
    "table = driver.find_element(By.XPATH, table_xpath)\n",
    "# Fetch table rows using XPath\n",
    "rows_xpath = './/tr'  # XPath to locate rows within the table\n",
    "rows = table.find_elements(By.XPATH, rows_xpath)\n",
    "# Extract data from each row and column\n",
    "table_data = []\n",
    "for row in rows:\n",
    "    columns_xpath = './/td'  # XPath to locate columns within each row\n",
    "    columns = row.find_elements(By.XPATH, columns_xpath)\n",
    "    row_data = [column.text for column in columns]\n",
    "    table_data.append(row_data)\n",
    "\n",
    "# Print table data\n",
    "for row in table_data:\n",
    "    print(row)\n"
   ]
  },
  {
   "cell_type": "code",
   "execution_count": null,
   "metadata": {},
   "outputs": [
    {
     "name": "stdout",
     "output_type": "stream",
     "text": [
      "['Radius', 'Population']\n",
      "['10 km', '1300 people']\n",
      "['5 km', '<1000 people']\n",
      "['2 km', '<1000 people']\n",
      "['1 km', '<1000 people']\n",
      "['Burned Area', 'no people']\n"
     ]
    }
   ],
   "source": [
    "# Locate the Impact Timeline\n",
    "table_xpath = '//*[@id=\"graph_eq\"]/table/tbody/tr/td/table/tbody'  # Adjust XPath as needed\n",
    "table = driver.find_element(By.XPATH, table_xpath)\n",
    "# Fetch table rows using XPath\n",
    "rows_xpath = './/tr'  # XPath to locate rows within the table\n",
    "rows = table.find_elements(By.XPATH, rows_xpath)\n",
    "# Extract data from each row and column\n",
    "table_data = []\n",
    "for row in rows:\n",
    "    columns_xpath = './/th | .//td'  # XPath to locate columns within each row\n",
    "    columns = row.find_elements(By.XPATH, columns_xpath)\n",
    "    row_data = [column.text for column in columns]\n",
    "    table_data.append(row_data)\n",
    "\n",
    "# Print table data\n",
    "for row in table_data:\n",
    "    print(row)\n"
   ]
  },
  {
   "cell_type": "code",
   "execution_count": null,
   "metadata": {},
   "outputs": [],
   "source": [
    "\n",
    "# main_table_elem = driver.find_element(By.XPATH, '//*[@class = \"summary\"]')\n",
    "# # Locate the table element using XPath\n",
    "# table_xpath = '//table'  # Adjust XPath as needed\n",
    "# table = driver.find_element(By.XPATH, table_xpath)\n",
    "\n",
    "# # Fetch table rows using XPath\n",
    "# rows_xpath = './/tr'  # XPath to locate rows within the table\n",
    "# rows = main_table_elem.find_elements(By.XPATH, rows_xpath)\n",
    "\n",
    "# # Extract data from each row and column\n",
    "# table_data = {}\n",
    "# for row in rows:\n",
    "#     columns_xpath = './/td'  # XPath to locate columns within each row\n",
    "#     columns = row.find_elements(By.XPATH, columns_xpath)\n",
    "#     row_data = [column.text for column in columns]\n",
    "#     table_data.append(row_data)\n",
    "\n",
    "# # Print table data\n",
    "# for row in table_data:\n",
    "#     print(row)\n"
   ]
  },
  {
   "cell_type": "code",
   "execution_count": null,
   "metadata": {},
   "outputs": [],
   "source": [
    "\n",
    "# Close the WebDriver\n",
    "driver.quit()\n"
   ]
  }
 ],
 "metadata": {
  "kernelspec": {
   "display_name": "Python 3",
   "language": "python",
   "name": "python3"
  },
  "language_info": {
   "codemirror_mode": {
    "name": "ipython",
    "version": 3
   },
   "file_extension": ".py",
   "mimetype": "text/x-python",
   "name": "python",
   "nbconvert_exporter": "python",
   "pygments_lexer": "ipython3",
   "version": "3.12.5"
  }
 },
 "nbformat": 4,
 "nbformat_minor": 2
}
